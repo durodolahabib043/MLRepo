{
  "nbformat": 4,
  "nbformat_minor": 0,
  "metadata": {
    "colab": {
      "name": "Tokenization.ipynb",
      "provenance": [],
      "authorship_tag": "ABX9TyOMorkWQUcKRS9sUp2tmzLx",
      "include_colab_link": true
    },
    "kernelspec": {
      "name": "python3",
      "display_name": "Python 3"
    }
  },
  "cells": [
    {
      "cell_type": "markdown",
      "metadata": {
        "id": "view-in-github",
        "colab_type": "text"
      },
      "source": [
        "<a href=\"https://colab.research.google.com/github/durodolahabib043/MLRepo/blob/master/Tokenization.ipynb\" target=\"_parent\"><img src=\"https://colab.research.google.com/assets/colab-badge.svg\" alt=\"Open In Colab\"/></a>"
      ]
    },
    {
      "cell_type": "code",
      "metadata": {
        "id": "cotP_ZOkAcxC",
        "colab_type": "code",
        "colab": {}
      },
      "source": [
        "import spacy "
      ],
      "execution_count": 0,
      "outputs": []
    },
    {
      "cell_type": "code",
      "metadata": {
        "id": "5pHp7TQgBAAi",
        "colab_type": "code",
        "colab": {}
      },
      "source": [
        "nlp = spacy.load('en_core_web_sm')"
      ],
      "execution_count": 0,
      "outputs": []
    },
    {
      "cell_type": "code",
      "metadata": {
        "id": "d14MAxawCBdL",
        "colab_type": "code",
        "colab": {}
      },
      "source": [
        "doc = nlp(u'Teasla is looking to buy U.S. startup for $6 million')"
      ],
      "execution_count": 0,
      "outputs": []
    },
    {
      "cell_type": "code",
      "metadata": {
        "id": "ZZRl_WS0CaKn",
        "colab_type": "code",
        "colab": {
          "base_uri": "https://localhost:8080/",
          "height": 204
        },
        "outputId": "7601712e-753d-4dfe-df04-68ed1471440f"
      },
      "source": [
        "for token in doc:\n",
        "\n",
        "  print(token.text , token.pos_)\n"
      ],
      "execution_count": 8,
      "outputs": [
        {
          "output_type": "stream",
          "text": [
            "Teasla PROPN\n",
            "is VERB\n",
            "looking VERB\n",
            "to PART\n",
            "buy VERB\n",
            "U.S. PROPN\n",
            "startup NOUN\n",
            "for ADP\n",
            "$ SYM\n",
            "6 NUM\n",
            "million NUM\n"
          ],
          "name": "stdout"
        }
      ]
    },
    {
      "cell_type": "code",
      "metadata": {
        "id": "is71dpn3DsPK",
        "colab_type": "code",
        "colab": {
          "base_uri": "https://localhost:8080/",
          "height": 68
        },
        "outputId": "c33fbedf-57d1-47f6-b672-b3b496c2d386"
      },
      "source": [
        "nlp.pipeline\n"
      ],
      "execution_count": 9,
      "outputs": [
        {
          "output_type": "execute_result",
          "data": {
            "text/plain": [
              "[('tagger', <spacy.pipeline.pipes.Tagger at 0x7f1b1e87a7b8>),\n",
              " ('parser', <spacy.pipeline.pipes.DependencyParser at 0x7f1ab438b888>),\n",
              " ('ner', <spacy.pipeline.pipes.EntityRecognizer at 0x7f1ab438b8e8>)]"
            ]
          },
          "metadata": {
            "tags": []
          },
          "execution_count": 9
        }
      ]
    },
    {
      "cell_type": "code",
      "metadata": {
        "id": "xN8T1OGzMATx",
        "colab_type": "code",
        "colab": {}
      },
      "source": [
        "myString = '\"We\\'re moving to L.A. !\"'"
      ],
      "execution_count": 0,
      "outputs": []
    },
    {
      "cell_type": "code",
      "metadata": {
        "id": "3UNf9vxfMaJI",
        "colab_type": "code",
        "colab": {
          "base_uri": "https://localhost:8080/",
          "height": 34
        },
        "outputId": "dab87be6-6ecd-4e07-8626-52be08c9ce8c"
      },
      "source": [
        "myString\n"
      ],
      "execution_count": 11,
      "outputs": [
        {
          "output_type": "execute_result",
          "data": {
            "text/plain": [
              "'\"We\\'re moving to L.A. !\"'"
            ]
          },
          "metadata": {
            "tags": []
          },
          "execution_count": 11
        }
      ]
    },
    {
      "cell_type": "code",
      "metadata": {
        "id": "RBkX-E4LMcGA",
        "colab_type": "code",
        "colab": {
          "base_uri": "https://localhost:8080/",
          "height": 34
        },
        "outputId": "ab38739a-a825-4981-edb1-26c15bcb3494"
      },
      "source": [
        "print(myString)"
      ],
      "execution_count": 12,
      "outputs": [
        {
          "output_type": "stream",
          "text": [
            "\"We're moving to L.A. !\"\n"
          ],
          "name": "stdout"
        }
      ]
    },
    {
      "cell_type": "code",
      "metadata": {
        "id": "3BJ19fLuMpMf",
        "colab_type": "code",
        "colab": {
          "base_uri": "https://localhost:8080/",
          "height": 153
        },
        "outputId": "07c00c28-85ef-4cc3-9703-ec1db61b45a0"
      },
      "source": [
        "doc = nlp(myString)\n",
        "\n",
        "for token in doc : \n",
        "  print(token.text)"
      ],
      "execution_count": 13,
      "outputs": [
        {
          "output_type": "stream",
          "text": [
            "\"\n",
            "We\n",
            "'re\n",
            "moving\n",
            "to\n",
            "L.A.\n",
            "!\n",
            "\"\n"
          ],
          "name": "stdout"
        }
      ]
    },
    {
      "cell_type": "code",
      "metadata": {
        "id": "ZnJ-UpQvOsf6",
        "colab_type": "code",
        "colab": {}
      },
      "source": [
        "doc1 = nlp(u'Apple to build Hong Kong factory for $ 6 million')\n"
      ],
      "execution_count": 0,
      "outputs": []
    },
    {
      "cell_type": "code",
      "metadata": {
        "id": "1MrHdfqmO9a2",
        "colab_type": "code",
        "colab": {
          "base_uri": "https://localhost:8080/",
          "height": 187
        },
        "outputId": "d25d9513-3b9f-44bb-a275-0508ce9a1744"
      },
      "source": [
        "for token in doc1 : \n",
        "  print(token.text)"
      ],
      "execution_count": 15,
      "outputs": [
        {
          "output_type": "stream",
          "text": [
            "Apple\n",
            "to\n",
            "build\n",
            "Hong\n",
            "Kong\n",
            "factory\n",
            "for\n",
            "$\n",
            "6\n",
            "million\n"
          ],
          "name": "stdout"
        }
      ]
    },
    {
      "cell_type": "code",
      "metadata": {
        "id": "EHnJz2ifPWaw",
        "colab_type": "code",
        "colab": {
          "base_uri": "https://localhost:8080/",
          "height": 221
        },
        "outputId": "3e177615-055b-4b8f-97d1-08cf8a118a6b"
      },
      "source": [
        "for entity in doc1.ents : \n",
        "  print(entity)\n",
        "  print(entity.label_)\n",
        "\n",
        "  print(\"\\n\")"
      ],
      "execution_count": 18,
      "outputs": [
        {
          "output_type": "stream",
          "text": [
            "Apple\n",
            "ORG\n",
            "\n",
            "\n",
            "Hong Kong\n",
            "GPE\n",
            "\n",
            "\n",
            "$ 6 million\n",
            "MONEY\n",
            "\n",
            "\n"
          ],
          "name": "stdout"
        }
      ]
    }
  ]
}