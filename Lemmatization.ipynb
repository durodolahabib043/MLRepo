{
  "nbformat": 4,
  "nbformat_minor": 0,
  "metadata": {
    "colab": {
      "name": "Lemmatization.ipynb",
      "provenance": [],
      "authorship_tag": "ABX9TyPgx+4OsJxeEeUTmK6NPI/C",
      "include_colab_link": true
    },
    "kernelspec": {
      "name": "python3",
      "display_name": "Python 3"
    }
  },
  "cells": [
    {
      "cell_type": "markdown",
      "metadata": {
        "id": "view-in-github",
        "colab_type": "text"
      },
      "source": [
        "<a href=\"https://colab.research.google.com/github/durodolahabib043/MLRepo/blob/master/Lemmatization.ipynb\" target=\"_parent\"><img src=\"https://colab.research.google.com/assets/colab-badge.svg\" alt=\"Open In Colab\"/></a>"
      ]
    },
    {
      "cell_type": "code",
      "metadata": {
        "id": "dudC8d2l3zl4",
        "colab_type": "code",
        "colab": {}
      },
      "source": [
        ""
      ],
      "execution_count": 0,
      "outputs": []
    },
    {
      "cell_type": "code",
      "metadata": {
        "id": "nMUGCI5L34Q0",
        "colab_type": "code",
        "colab": {}
      },
      "source": [
        "import spacy "
      ],
      "execution_count": 0,
      "outputs": []
    },
    {
      "cell_type": "code",
      "metadata": {
        "id": "bPqQy9vV38C0",
        "colab_type": "code",
        "colab": {}
      },
      "source": [
        "nlp = spacy.load('en_core_web_sm')\n",
        "\n",
        "doc = nlp(u' i am a runner running a race because i love to run since i ran today ')\n",
        "\n",
        "\n"
      ],
      "execution_count": 0,
      "outputs": []
    },
    {
      "cell_type": "code",
      "metadata": {
        "id": "n_oH8TGF4o67",
        "colab_type": "code",
        "colab": {
          "base_uri": "https://localhost:8080/",
          "height": 306
        },
        "outputId": "a462ed71-9244-465d-b1f6-cc2905b7a2b8"
      },
      "source": [
        "for word in doc:\n",
        "  #print(f'{word.text:{12} {word.lemma_:{22}}}') \n",
        "  print(f\"{word.text:{10}} {word.lemma_:<{22}}\") \n",
        "\n",
        " "
      ],
      "execution_count": 29,
      "outputs": [
        {
          "output_type": "stream",
          "text": [
            "                                 \n",
            "i          i                     \n",
            "am         be                    \n",
            "a          a                     \n",
            "runner     runner                \n",
            "running    run                   \n",
            "a          a                     \n",
            "race       race                  \n",
            "because    because               \n",
            "i          i                     \n",
            "love       love                  \n",
            "to         to                    \n",
            "run        run                   \n",
            "since      since                 \n",
            "i          i                     \n",
            "ran        run                   \n",
            "today      today                 \n"
          ],
          "name": "stdout"
        }
      ]
    }
  ]
}