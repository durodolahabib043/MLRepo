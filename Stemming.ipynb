{
  "nbformat": 4,
  "nbformat_minor": 0,
  "metadata": {
    "colab": {
      "name": "Stemming.ipynb",
      "provenance": [],
      "authorship_tag": "ABX9TyOaLG2Z/7RvCjP9bD02Iuuu",
      "include_colab_link": true
    },
    "kernelspec": {
      "name": "python3",
      "display_name": "Python 3"
    }
  },
  "cells": [
    {
      "cell_type": "markdown",
      "metadata": {
        "id": "view-in-github",
        "colab_type": "text"
      },
      "source": [
        "<a href=\"https://colab.research.google.com/github/durodolahabib043/MLRepo/blob/master/Stemming.ipynb\" target=\"_parent\"><img src=\"https://colab.research.google.com/assets/colab-badge.svg\" alt=\"Open In Colab\"/></a>"
      ]
    },
    {
      "cell_type": "code",
      "metadata": {
        "id": "sStOOWE7zmB0",
        "colab_type": "code",
        "colab": {}
      },
      "source": [
        "import nltk "
      ],
      "execution_count": 0,
      "outputs": []
    },
    {
      "cell_type": "code",
      "metadata": {
        "id": "e7iV6WL8zwI9",
        "colab_type": "code",
        "colab": {}
      },
      "source": [
        "from nltk.stem.porter import PorterStemmer"
      ],
      "execution_count": 0,
      "outputs": []
    },
    {
      "cell_type": "code",
      "metadata": {
        "id": "0hbhd-_Iz4jI",
        "colab_type": "code",
        "colab": {}
      },
      "source": [
        "pStemmer = PorterStemmer()"
      ],
      "execution_count": 0,
      "outputs": []
    },
    {
      "cell_type": "code",
      "metadata": {
        "id": "TSAud4-Bz-Yd",
        "colab_type": "code",
        "colab": {
          "base_uri": "https://localhost:8080/",
          "height": 119
        },
        "outputId": "7f99d89c-6a45-440a-e65f-83277c1fbd82"
      },
      "source": [
        "words = ['run ' , 'ran ' , 'runner ' , 'running' , 'easily ' ,'fairly']\n",
        "\n",
        "for word in words : \n",
        "  print(word + '-----------' + pStemmer.stem(word))"
      ],
      "execution_count": 6,
      "outputs": [
        {
          "output_type": "stream",
          "text": [
            "run -----------run \n",
            "ran -----------ran \n",
            "runner -----------runner \n",
            "running-----------run\n",
            "easily -----------easily \n",
            "fairly-----------fairli\n"
          ],
          "name": "stdout"
        }
      ]
    },
    {
      "cell_type": "code",
      "metadata": {
        "id": "QaZtn3lh1zLk",
        "colab_type": "code",
        "colab": {}
      },
      "source": [
        "from nltk.stem.snowball import  SnowballStemmer"
      ],
      "execution_count": 0,
      "outputs": []
    },
    {
      "cell_type": "code",
      "metadata": {
        "id": "Sf9mwkkc15WZ",
        "colab_type": "code",
        "colab": {
          "base_uri": "https://localhost:8080/",
          "height": 119
        },
        "outputId": "5febd0c2-7523-4ac6-dd3c-515caa719dd5"
      },
      "source": [
        "snowBallStemmer = SnowballStemmer( language='english')\n",
        "for word in words : \n",
        "  print(word + '-----------' + snowBallStemmer.stem(word))"
      ],
      "execution_count": 10,
      "outputs": [
        {
          "output_type": "stream",
          "text": [
            "run -----------run \n",
            "ran -----------ran \n",
            "runner -----------runner \n",
            "running-----------run\n",
            "easily -----------easily \n",
            "fairly-----------fair\n"
          ],
          "name": "stdout"
        }
      ]
    }
  ]
}