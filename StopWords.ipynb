{
  "nbformat": 4,
  "nbformat_minor": 0,
  "metadata": {
    "colab": {
      "name": "StopWords.ipynb",
      "provenance": [],
      "authorship_tag": "ABX9TyOac7gkIG46IRHBDaxCx0a7",
      "include_colab_link": true
    },
    "kernelspec": {
      "name": "python3",
      "display_name": "Python 3"
    }
  },
  "cells": [
    {
      "cell_type": "markdown",
      "metadata": {
        "id": "view-in-github",
        "colab_type": "text"
      },
      "source": [
        "<a href=\"https://colab.research.google.com/github/durodolahabib043/MLRepo/blob/master/StopWords.ipynb\" target=\"_parent\"><img src=\"https://colab.research.google.com/assets/colab-badge.svg\" alt=\"Open In Colab\"/></a>"
      ]
    },
    {
      "cell_type": "code",
      "metadata": {
        "id": "dlxS0sTjGmhb",
        "colab_type": "code",
        "colab": {}
      },
      "source": [
        ""
      ],
      "execution_count": 0,
      "outputs": []
    },
    {
      "cell_type": "code",
      "metadata": {
        "id": "Sig3FOcbGqQw",
        "colab_type": "code",
        "colab": {}
      },
      "source": [
        "import spacy "
      ],
      "execution_count": 0,
      "outputs": []
    },
    {
      "cell_type": "code",
      "metadata": {
        "id": "ZmwhlL9UGutJ",
        "colab_type": "code",
        "colab": {}
      },
      "source": [
        "nlp = spacy.load('en_core_web_sm')"
      ],
      "execution_count": 0,
      "outputs": []
    },
    {
      "cell_type": "code",
      "metadata": {
        "id": "GFhI_pCzG94n",
        "colab_type": "code",
        "colab": {
          "base_uri": "https://localhost:8080/",
          "height": 54
        },
        "outputId": "dc95c6ac-b6ab-4861-e6d8-d7c0f3af3356"
      },
      "source": [
        " print     (nlp.Defaults.stop_words)"
      ],
      "execution_count": 8,
      "outputs": [
        {
          "output_type": "stream",
          "text": [
            "{'again', 'often', 'fifteen', 'becomes', 'get', 'fifty', '’d', 'never', 'give', 'below', 'last', 'wherein', 'make', '‘d', 'thence', 'before', 'first', 'yourselves', 'one', 'between', 'noone', 'otherwise', 'together', 'whereupon', 'thereafter', 'where', 'yet', '’s', 'call', 'over', 'seemed', 'nor', 'were', 'somewhere', 'across', 'his', 'elsewhere', 'hereby', 'well', 'anywhere', 'enough', 'after', 'anyhow', 're', 'until', 'may', 'if', 'therein', 'twelve', 'would', 'ten', 'hereafter', 'could', 'more', 'been', 'into', 'per', 'still', '‘ve', 'an', 'namely', 'as', 'on', 'also', 'alone', 'forty', 'serious', 'own', 'perhaps', 'are', 'unless', 'sixty', 'she', 'however', 'for', 'them', 'us', '‘re', 'do', 'has', 'mostly', 'under', 'any', 'since', 'about', 'various', 'your', 'put', 'eleven', 'and', 'either', 'almost', 'every', 'among', 'further', 'along', 'because', 'sometime', 'is', 'take', 'whenever', '’ll', '’m', 'third', 'myself', 'must', 'seems', 'not', 'my', 'please', 'quite', 'but', 'nine', 'a', 'besides', 'other', 'they', 'whose', '’ve', 'might', 'so', 'became', 'even', 'front', 'its', 'than', 'six', 'whereas', 'while', '‘m', 'did', \"'d\", 'eight', 'down', 'few', 'we', 'ca', 'latter', 'become', 'two', 'when', 'who', 'former', \"'s\", 'only', 'seeming', 'keep', 'their', 'during', 'via', 'always', 'nothing', 'side', 'really', 'then', 'ever', 'say', '‘s', 'in', 'very', \"n't\", 'does', 'much', 'thereby', 'through', 'with', 'whither', 'n‘t', 'our', 'hence', 'everyone', 'name', 'doing', 'due', 'some', 'several', 'twenty', 'whatever', 'beside', 'three', 'which', 'by', 'somehow', 'up', 'around', 'to', 'afterwards', 'anything', 'done', 'four', 'amongst', 'whom', 'you', \"'ve\", 'how', 'being', 'five', 'empty', 'nevertheless', 'at', 'behind', 'why', 'though', 'sometimes', 'off', 'within', 'whether', 'herself', 'regarding', 'me', 'less', 'the', 'ours', 'anyway', 'bottom', 'everywhere', 'it', 'once', 'anyone', 'both', 'everything', 'another', 'should', 'part', 'something', 'top', 'or', 'what', 'i', 'thus', 'full', 'thereupon', \"'re\", 'he', 'n’t', '‘ll', 'yourself', 'above', 'herein', 'move', 'see', 'those', 'meanwhile', 'whoever', 'will', 'go', 'himself', \"'m\", 'no', 'can', \"'ll\", 'made', 'out', 'using', 'wherever', 'am', 'neither', 'someone', 'themselves', 'just', 'next', 'onto', 'against', 'yours', 'throughout', 'without', 'beyond', 'many', 'seem', 'therefore', 'too', 'upon', 'least', 'show', 'towards', 'back', 'used', 'nobody', 'cannot', 'else', 'moreover', 'others', 'most', 'these', 'toward', 'be', 'have', 'now', 'same', 'whole', 'here', 'thru', 'formerly', 'whereafter', 'although', 'each', 'hereupon', 'all', 'amount', 'ourselves', 'that', 'had', 'there', 'becoming', 'from', 'itself', 'latterly', 'mine', 'beforehand', 'this', 'was', 'already', 'hundred', 'none', 'nowhere', 'rather', 'indeed', 'him', 'of', 'whence', 'whereby', '’re', 'except', 'such', 'hers', 'her'}\n"
          ],
          "name": "stdout"
        }
      ]
    }
  ]
}